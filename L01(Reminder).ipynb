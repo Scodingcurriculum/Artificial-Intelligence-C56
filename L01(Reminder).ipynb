{
  "nbformat": 4,
  "nbformat_minor": 0,
  "metadata": {
    "colab": {
      "provenance": [],
      "include_colab_link": true
    },
    "kernelspec": {
      "name": "python3",
      "display_name": "Python 3"
    },
    "language_info": {
      "name": "python"
    }
  },
  "cells": [
    {
      "cell_type": "markdown",
      "metadata": {
        "id": "view-in-github",
        "colab_type": "text"
      },
      "source": [
        "<a href=\"https://colab.research.google.com/github/Scodingcurriculum/Artificial-Intelligence-C56/blob/main/L01(Reminder).ipynb\" target=\"_parent\"><img src=\"https://colab.research.google.com/assets/colab-badge.svg\" alt=\"Open In Colab\"/></a>"
      ]
    },
    {
      "cell_type": "code",
      "source": [
        "#Operators\n",
        "\n",
        "# Step 1: Input two numbers from the user\n",
        "num1 = int(input(\"Enter the first number: \"))\n",
        "num2 = int(input(\"Enter the second number: \"))\n",
        "\n",
        "# Step 2: Perform the operations\n",
        "# Addition\n",
        "add_result = num1 + num2\n",
        "\n",
        "# Subtraction\n",
        "sub_result = num1 - num2\n",
        "\n",
        "# Multiplication\n",
        "mul_result = num1 * num2\n",
        "\n",
        "# Division\n",
        "div_result = num1 / num2  # This gives a float result\n",
        "\n",
        "# Step 3: Display the results\n",
        "print(f\"Addition: {num1} + {num2} = {add_result}\")\n",
        "print(f\"Subtraction: {num1} - {num2} = {sub_result}\")\n",
        "print(f\"Multiplication: {num1} * {num2} = {mul_result}\")\n",
        "print(f\"Division: {num1} / {num2} = {div_result}\")\n"
      ],
      "metadata": {
        "id": "f7WAYEv7GEp4",
        "outputId": "8b938b9a-53cb-4afb-cba2-908ab5b5ffb2",
        "colab": {
          "base_uri": "https://localhost:8080/"
        }
      },
      "execution_count": null,
      "outputs": [
        {
          "output_type": "stream",
          "name": "stdout",
          "text": [
            "Enter the first number: 12\n",
            "Enter the second number: 12\n",
            "Addition: 12 + 12 = 24\n",
            "Subtraction: 12 - 12 = 0\n",
            "Multiplication: 12 * 12 = 144\n",
            "Division: 12 / 12 = 1.0\n"
          ]
        }
      ]
    },
    {
      "cell_type": "code",
      "source": [
        "#Understanding of Variables\n",
        "\n",
        "name = \"Alice\"\n",
        "print(name)"
      ],
      "metadata": {
        "colab": {
          "base_uri": "https://localhost:8080/"
        },
        "id": "tOR08leDCupa",
        "outputId": "849a1620-a6d3-41a3-fdba-f2b9932aa7c0"
      },
      "execution_count": null,
      "outputs": [
        {
          "output_type": "stream",
          "name": "stdout",
          "text": [
            "Alice\n"
          ]
        }
      ]
    },
    {
      "cell_type": "code",
      "execution_count": null,
      "metadata": {
        "colab": {
          "base_uri": "https://localhost:8080/"
        },
        "id": "BkbFRcJ1e8OM",
        "outputId": "6cfa21cc-c97a-4e1b-9b79-092bb5896928"
      },
      "outputs": [
        {
          "output_type": "stream",
          "name": "stdout",
          "text": [
            "What is your task? 12\n",
            "How many hours later do you want to be reminded? 1\n",
            "You will be reminded about '12' at 3:00 hours!\n"
          ]
        }
      ],
      "source": [
        "# Step 1: Input Task and Time\n",
        "task = input(\"What is your task? \")  # The task to be reminded about\n",
        "reminder_time = int(input(\"How many hours later do you want to be reminded? \"))  # Time after which reminder should occur\n",
        "\n",
        "# Step 2: Current Time Setup (Simulated)\n",
        "current_time = 2  # Simulating that the current time is 2 PM\n",
        "\n",
        "# Step 3: Calculate Reminder Time\n",
        "reminder_at = current_time + reminder_time\n",
        "\n",
        "# Step 4: Check if the reminder time exceeds 24 hours\n",
        "if reminder_at >= 24:\n",
        "    reminder_at -= 24  # This ensures time stays within the 24-hour clock format\n",
        "\n",
        "# Step 5: Show the result\n",
        "print(f\"You will be reminded about '{task}' at {reminder_at}:00 hours!\")\n"
      ]
    }
  ]
}