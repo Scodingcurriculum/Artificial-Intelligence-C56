{
  "cells": [
    {
      "cell_type": "markdown",
      "metadata": {
        "id": "view-in-github",
        "colab_type": "text"
      },
      "source": [
        "<a href=\"https://colab.research.google.com/github/Scodingcurriculum/Artificial-Intelligence-C56/blob/main/L04(Loops).ipynb\" target=\"_parent\"><img src=\"https://colab.research.google.com/assets/colab-badge.svg\" alt=\"Open In Colab\"/></a>"
      ]
    },
    {
      "cell_type": "code",
      "execution_count": null,
      "metadata": {
        "colab": {
          "base_uri": "https://localhost:8080/"
        },
        "collapsed": true,
        "id": "Zvkk3YR-hDYY",
        "outputId": "ff7c4092-42f0-4765-f7b5-a8c177df8c34"
      },
      "outputs": [
        {
          "name": "stdout",
          "output_type": "stream",
          "text": [
            "Enter a number to see its multiplication table: 20\n",
            "\n",
            "Multiplication Table for 20:\n",
            "\n",
            "20 x 1 = 20\n",
            "20 x 2 = 40\n",
            "20 x 3 = 60\n",
            "20 x 4 = 80\n",
            "20 x 5 = 100\n",
            "20 x 6 = 120\n",
            "20 x 7 = 140\n",
            "20 x 8 = 160\n",
            "20 x 9 = 180\n",
            "20 x 10 = 200\n"
          ]
        }
      ],
      "source": [
        "#using for loop\n",
        "# Step 1: Get User Input\n",
        "number = int(input(\"Enter a number to see its multiplication table: \"))\n",
        "\n",
        "# Step 2: Set Up the Loop\n",
        "print(f\"\\nMultiplication Table for {number}:\\n\")\n",
        "for i in range(1, 11):  # Loop from 1 to 10\n",
        "    # Step 3: Multiply and Print\n",
        "    result = number * i\n",
        "    print(f\"{number} x {i} = {result}\")  # Print the result\n",
        "\n",
        "# Step 4: End the Program (automatically happens after the loop)\n"
      ]
    },
    {
      "cell_type": "code",
      "execution_count": null,
      "metadata": {
        "colab": {
          "background_save": true,
          "base_uri": "https://localhost:8080/"
        },
        "id": "AU6nzVXjiNtb",
        "outputId": "cf8f738d-a865-4bfe-9dba-0c80043074d5"
      },
      "outputs": [
        {
          "name": "stdout",
          "output_type": "stream",
          "text": [
            "Too high! Try again.\n",
            "Too high! Try again.\n",
            "Too high! Try again.\n",
            "Too high! Try again.\n",
            "Too low! Try again.\n"
          ]
        }
      ],
      "source": [
        "#Using while loop\n",
        "\n",
        "# Step 1: Set the Secret Number\n",
        "secret_number = 7  # You can choose any number\n",
        "\n",
        "# Step 2: Get User Input\n",
        "guess = int(input(\"Guess the secret number (between 1 and 10): \"))\n",
        "\n",
        "# Step 3: Set Up the While Loop\n",
        "while guess != secret_number:\n",
        "    # Step 4: Check the Guess and Respond\n",
        "    if guess < secret_number:\n",
        "        print(\"Too low! Try again.\")\n",
        "    elif guess > secret_number:\n",
        "        print(\"Too high! Try again.\")\n",
        "\n",
        "    # Ask for another guess\n",
        "    guess = int(input(\"Guess again: \"))\n",
        "\n",
        "# If the guess is correct\n",
        "print(\"Congratulations! You guessed the secret number!\")\n"
      ]
    }
  ],
  "metadata": {
    "colab": {
      "provenance": [],
      "include_colab_link": true
    },
    "kernelspec": {
      "display_name": "Python 3",
      "name": "python3"
    },
    "language_info": {
      "name": "python"
    }
  },
  "nbformat": 4,
  "nbformat_minor": 0
}