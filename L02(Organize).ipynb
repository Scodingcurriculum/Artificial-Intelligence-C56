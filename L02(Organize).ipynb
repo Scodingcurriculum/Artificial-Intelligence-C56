{
  "nbformat": 4,
  "nbformat_minor": 0,
  "metadata": {
    "colab": {
      "provenance": [],
      "include_colab_link": true
    },
    "kernelspec": {
      "name": "python3",
      "display_name": "Python 3"
    },
    "language_info": {
      "name": "python"
    }
  },
  "cells": [
    {
      "cell_type": "markdown",
      "metadata": {
        "id": "view-in-github",
        "colab_type": "text"
      },
      "source": [
        "<a href=\"https://colab.research.google.com/github/Scodingcurriculum/Artificial-Intelligence-C56/blob/main/L02(Organize).ipynb\" target=\"_parent\"><img src=\"https://colab.research.google.com/assets/colab-badge.svg\" alt=\"Open In Colab\"/></a>"
      ]
    },
    {
      "cell_type": "code",
      "source": [
        "#Joining a list\n",
        "# Start with a list of fruits\n",
        "my_fruits = [\"apple\", \"banana\", \"cherry\"]\n",
        "\n",
        "# Join the fruits into one string with a comma and space\n",
        "joined_fruits = \", \".join(my_fruits)\n",
        "\n",
        "# Print the joined string\n",
        "print(joined_fruits)\n"
      ],
      "metadata": {
        "id": "gwBV9Wn6UtN2",
        "outputId": "eff6e7e5-7eb7-415d-adf3-f0db477a542a",
        "colab": {
          "base_uri": "https://localhost:8080/"
        }
      },
      "execution_count": null,
      "outputs": [
        {
          "output_type": "stream",
          "name": "stdout",
          "text": [
            "apple, banana, cherry\n"
          ]
        }
      ]
    },
    {
      "cell_type": "code",
      "source": [
        "#list sorting\n",
        "\n",
        "# Start with a list of numbers\n",
        "my_numbers = [5, 2, 4, 1, 3]\n",
        "\n",
        "# Sort the list in order\n",
        "my_numbers.sort()\n",
        "\n",
        "# Print the sorted list\n",
        "print(my_numbers)\n"
      ],
      "metadata": {
        "colab": {
          "base_uri": "https://localhost:8080/"
        },
        "id": "EKYuuzWKUYf2",
        "outputId": "8b481809-7aee-4d93-8072-ab7d07b7d99e"
      },
      "execution_count": null,
      "outputs": [
        {
          "output_type": "stream",
          "name": "stdout",
          "text": [
            "[1, 2, 3, 4, 5]\n"
          ]
        }
      ]
    },
    {
      "cell_type": "code",
      "source": [
        "my_bag = [\"book\", \"pencil\"]\n",
        "\n",
        "#add items into list\n",
        "my_bag.append(\"eraser\")\n",
        "print(my_bag)\n",
        "\n",
        "#remove a list\n",
        "\n",
        "my_bag = [\"book\", \"pencil\"]\n",
        "my_bag.remove(\"pencil\")\n",
        "print(my_bag)\n"
      ],
      "metadata": {
        "colab": {
          "base_uri": "https://localhost:8080/"
        },
        "id": "-Av3d_RmSRB5",
        "outputId": "9a8a8b60-e3d4-4f21-b66b-7ac5631a17b9"
      },
      "execution_count": null,
      "outputs": [
        {
          "output_type": "stream",
          "name": "stdout",
          "text": [
            "['book', 'pencil', 'eraser']\n",
            "['book']\n"
          ]
        }
      ]
    },
    {
      "cell_type": "code",
      "execution_count": null,
      "metadata": {
        "id": "m06RPo1Pfhiu",
        "outputId": "ac6122e0-4592-4d71-8666-891bebc8c2b8",
        "colab": {
          "base_uri": "https://localhost:8080/"
        }
      },
      "outputs": [
        {
          "output_type": "stream",
          "name": "stdout",
          "text": [
            "Welcome to 'My Favorite Things Organizer'!\n",
            "You can add, remove, and view your favorite things.\n",
            "\n",
            "Menu:\n",
            "1 - Add a new favorite item\n",
            "2 - Remove an item\n",
            "3 - View all your favorite things\n",
            "4 - Sort the list of favorites\n",
            "5 - Exit\n",
            "Enter your choice (1/2/3/4/5): 1\n",
            "Enter the name of your favorite thing: df\n",
            "'df' has been added to your list!\n",
            "\n",
            "Menu:\n",
            "1 - Add a new favorite item\n",
            "2 - Remove an item\n",
            "3 - View all your favorite things\n",
            "4 - Sort the list of favorites\n",
            "5 - Exit\n"
          ]
        }
      ],
      "source": [
        "# Step 1: Create an empty list to store favorite things\n",
        "favorite_things = []\n",
        "\n",
        "# Step 2: Show menu options\n",
        "print(\"Welcome to 'My Favorite Things Organizer'!\")\n",
        "print(\"You can add, remove, and view your favorite things.\")\n",
        "\n",
        "while True:\n",
        "    # Step 3: Show options to the user\n",
        "    print(\"\\nMenu:\")\n",
        "    print(\"1 - Add a new favorite item\")\n",
        "    print(\"2 - Remove an item\")\n",
        "    print(\"3 - View all your favorite things\")\n",
        "    print(\"4 - Sort the list of favorites\")\n",
        "    print(\"5 - Exit\")\n",
        "\n",
        "    # Step 4: Take user input\n",
        "    choice = input(\"Enter your choice (1/2/3/4/5): \")\n",
        "\n",
        "    if choice == \"1\":\n",
        "        # Adding an item\n",
        "        item = input(\"Enter the name of your favorite thing: \")\n",
        "        favorite_things.append(item)\n",
        "        print(f\"'{item}' has been added to your list!\")\n",
        "    elif choice == \"2\":\n",
        "        # Removing an item\n",
        "        item = input(\"Enter the name of the item you want to remove: \")\n",
        "        if item in favorite_things:\n",
        "            favorite_things.remove(item)\n",
        "            print(f\"'{item}' has been removed from your list!\")\n",
        "        else:\n",
        "            print(f\"'{item}' is not in your list.\")\n",
        "    elif choice == \"3\":\n",
        "        # Viewing the list\n",
        "        if favorite_things:\n",
        "            print(\"\\nYour Favorite Things:\")\n",
        "            for i, thing in enumerate(favorite_things, start=1):\n",
        "                print(f\"{i}. {thing}\")\n",
        "        else:\n",
        "            print(\"Your list is empty!\")\n",
        "    elif choice == \"4\":\n",
        "        # Sorting the list\n",
        "        favorite_things.sort()\n",
        "        print(\"Your list has been sorted alphabetically!\")\n",
        "    elif choice == \"5\":\n",
        "        # Exiting the loop\n",
        "        print(\"Goodbye!\")\n",
        "        break\n",
        "    else:\n",
        "        print(\"Invalid choice, please try again.\")\n"
      ]
    }
  ]
}