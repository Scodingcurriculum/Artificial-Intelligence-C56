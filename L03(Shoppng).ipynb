{
  "nbformat": 4,
  "nbformat_minor": 0,
  "metadata": {
    "colab": {
      "provenance": [],
      "include_colab_link": true
    },
    "kernelspec": {
      "name": "python3",
      "display_name": "Python 3"
    },
    "language_info": {
      "name": "python"
    }
  },
  "cells": [
    {
      "cell_type": "markdown",
      "metadata": {
        "id": "view-in-github",
        "colab_type": "text"
      },
      "source": [
        "<a href=\"https://colab.research.google.com/github/Scodingcurriculum/Artificial-Intelligence-C56/blob/main/L03(Shoppng).ipynb\" target=\"_parent\"><img src=\"https://colab.research.google.com/assets/colab-badge.svg\" alt=\"Open In Colab\"/></a>"
      ]
    },
    {
      "cell_type": "code",
      "source": [
        "#Leap Year\n",
        "# Input: Year to check\n",
        "year = int(input(\"Enter a year: \"))\n",
        "\n",
        "# Check if the year is a leap year\n",
        "if year % 4 == 0:\n",
        "    if year % 100 == 0:\n",
        "        if year % 400 == 0:\n",
        "            print(f\"{year} is a leap year.\")\n",
        "        else:\n",
        "            print(f\"{year} is not a leap year.\")\n",
        "    else:\n",
        "        print(f\"{year} is a leap year.\")\n",
        "else:\n",
        "    print(f\"{year} is not a leap year.\")\n"
      ],
      "metadata": {
        "colab": {
          "base_uri": "https://localhost:8080/"
        },
        "id": "YagL7ZxzTauZ",
        "outputId": "ec6854b9-a1ff-4592-b583-8295eb494915"
      },
      "execution_count": null,
      "outputs": [
        {
          "output_type": "stream",
          "name": "stdout",
          "text": [
            "Enter a year: 2010\n",
            "2010 is not a leap year.\n"
          ]
        }
      ]
    },
    {
      "cell_type": "code",
      "source": [
        "#even and odd number\n",
        "\n",
        "number = 10\n",
        "\n",
        "if number % 2==0:\n",
        "  print(\"Even Number\")\n",
        "else:\n",
        "  print(\"Odd Number\")"
      ],
      "metadata": {
        "colab": {
          "base_uri": "https://localhost:8080/"
        },
        "id": "6v3fvgC6GeRU",
        "outputId": "57544c45-d9a2-4da7-9ac6-8327c866d4ff"
      },
      "execution_count": null,
      "outputs": [
        {
          "output_type": "stream",
          "name": "stdout",
          "text": [
            "Even Number\n"
          ]
        }
      ]
    },
    {
      "cell_type": "code",
      "execution_count": null,
      "metadata": {
        "colab": {
          "base_uri": "https://localhost:8080/"
        },
        "id": "UIOHWoZagI09",
        "outputId": "1931e640-3082-441b-afa4-9c37a84defd2"
      },
      "outputs": [
        {
          "output_type": "stream",
          "name": "stdout",
          "text": [
            "Welcome to your Shopping List Manager!\n",
            "You can add up to 5 items to your list.\n",
            "\n",
            "Menu:\n",
            "1 - Add an item to the shopping list\n",
            "2 - Remove an item from the shopping list\n",
            "3 - View your shopping list\n",
            "4 - Exit\n",
            "Enter your choice (1/2/3/4): 1\n",
            "Enter the name of the item to add: f\n",
            "f has been added to your shopping list!\n",
            "\n",
            "Menu:\n",
            "1 - Add an item to the shopping list\n",
            "2 - Remove an item from the shopping list\n",
            "3 - View your shopping list\n",
            "4 - Exit\n"
          ]
        }
      ],
      "source": [
        "# Step 1: Initialize an empty shopping list (list) and a variable for the maximum limit of items\n",
        "shopping_list = []\n",
        "max_items = 5  # Set a limit to the shopping list\n",
        "\n",
        "# Step 2: Greet the user\n",
        "print(\"Welcome to your Shopping List Manager!\")\n",
        "print(f\"You can add up to {max_items} items to your list.\")\n",
        "\n",
        "while True:\n",
        "    # Step 3: Show the menu\n",
        "    print(\"\\nMenu:\")\n",
        "    print(\"1 - Add an item to the shopping list\")\n",
        "    print(\"2 - Remove an item from the shopping list\")\n",
        "    print(\"3 - View your shopping list\")\n",
        "    print(\"4 - Exit\")\n",
        "\n",
        "    # Step 4: Get user's choice\n",
        "    choice = input(\"Enter your choice (1/2/3/4): \")\n",
        "\n",
        "    if choice == \"1\":\n",
        "        # Step 5: Add an item (check if list is not full)\n",
        "        if len(shopping_list) < max_items:\n",
        "            item = input(\"Enter the name of the item to add: \")\n",
        "            if item in shopping_list:\n",
        "                print(f\"{item} is already on the list!\")\n",
        "            else:\n",
        "                shopping_list.append(item)\n",
        "                print(f\"{item} has been added to your shopping list!\")\n",
        "        else:\n",
        "            print(\"Your shopping list is full. Please remove an item before adding another one.\")\n",
        "\n",
        "    elif choice == \"2\":\n",
        "        # Step 6: Remove an item (check if list is not empty)\n",
        "        if shopping_list:\n",
        "            item = input(\"Enter the name of the item to remove: \")\n",
        "            if item in shopping_list:\n",
        "                shopping_list.remove(item)\n",
        "                print(f\"{item} has been removed from your shopping list!\")\n",
        "            else:\n",
        "                print(f\"{item} is not on your shopping list.\")\n",
        "        else:\n",
        "            print(\"Your shopping list is empty. Nothing to remove!\")\n",
        "\n",
        "    elif choice == \"3\":\n",
        "        # Step 7: View the shopping list\n",
        "        if shopping_list:\n",
        "            print(\"\\nYour Shopping List:\")\n",
        "            for i, item in enumerate(shopping_list, start=1):\n",
        "                print(f\"{i}. {item}\")\n",
        "            print(f\"\\nYou have {len(shopping_list)} out of {max_items} items.\")\n",
        "        else:\n",
        "            print(\"Your shopping list is empty!\")\n",
        "\n",
        "    elif choice == \"4\":\n",
        "        # Step 8: Exit the loop\n",
        "        print(\"Goodbye! Don't forget your shopping list!\")\n",
        "        break\n",
        "    else:\n",
        "        print(\"Invalid choice. Please select a valid option.\")\n"
      ]
    }
  ]
}