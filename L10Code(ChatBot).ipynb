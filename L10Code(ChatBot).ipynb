{
  "nbformat": 4,
  "nbformat_minor": 0,
  "metadata": {
    "colab": {
      "provenance": [],
      "include_colab_link": true
    },
    "kernelspec": {
      "name": "python3",
      "display_name": "Python 3"
    },
    "language_info": {
      "name": "python"
    }
  },
  "cells": [
    {
      "cell_type": "markdown",
      "metadata": {
        "id": "view-in-github",
        "colab_type": "text"
      },
      "source": [
        "<a href=\"https://colab.research.google.com/github/Scodingcurriculum/Artificial-Intelligence-C56/blob/main/L10Code(ChatBot).ipynb\" target=\"_parent\"><img src=\"https://colab.research.google.com/assets/colab-badge.svg\" alt=\"Open In Colab\"/></a>"
      ]
    },
    {
      "cell_type": "code",
      "execution_count": null,
      "metadata": {
        "colab": {
          "base_uri": "https://localhost:8080/"
        },
        "collapsed": true,
        "id": "Dap4no7HwJsl",
        "outputId": "8e0de60d-5561-4fb2-ac1f-d277e98f5097"
      },
      "outputs": [
        {
          "output_type": "stream",
          "name": "stdout",
          "text": [
            "Requirement already satisfied: nltk in /usr/local/lib/python3.10/dist-packages (3.8.1)\n",
            "Requirement already satisfied: click in /usr/local/lib/python3.10/dist-packages (from nltk) (8.1.7)\n",
            "Requirement already satisfied: joblib in /usr/local/lib/python3.10/dist-packages (from nltk) (1.4.2)\n",
            "Requirement already satisfied: regex>=2021.8.3 in /usr/local/lib/python3.10/dist-packages (from nltk) (2024.9.11)\n",
            "Requirement already satisfied: tqdm in /usr/local/lib/python3.10/dist-packages (from nltk) (4.66.5)\n"
          ]
        }
      ],
      "source": [
        "!pip install nltk"
      ]
    },
    {
      "cell_type": "code",
      "source": [
        "# Import necessary libraries\n",
        "import nltk\n",
        "from nltk.chat.util import Chat, reflections\n",
        "\n",
        "# Ensure you have the necessary NLTK packages\n",
        "nltk.download('punkt')\n",
        "\n",
        "# Define pairs of user input and bot responses\n",
        "pairs = [\n",
        "    [\n",
        "        r\"my name is (.*)\",\n",
        "        [\"Hello %1, how can I assist you today?\",]\n",
        "    ],\n",
        "    [\n",
        "        r\"hi|hey|hello\",\n",
        "        [\"Hello! How can I help you?\", \"Hi there! What do you need assistance with?\"]\n",
        "    ],\n",
        "    [\n",
        "        r\"what is your name?\",\n",
        "        [\"I am a chatbot created to assist you.\", \"You can call me Chatbot!\"]\n",
        "    ],\n",
        "    [\n",
        "        r\"how are you?\",\n",
        "        [\"I'm just a program, but thanks for asking!\", \"Doing well, how about you?\"]\n",
        "    ],\n",
        "    [\n",
        "        r\"(.*) help (.*)\",\n",
        "        [\"Sure, I can help you. What do you need assistance with?\",]\n",
        "    ],\n",
        "    [\n",
        "        r\"bye|exit\",\n",
        "        [\"Goodbye! Have a great day!\", \"See you later!\"]\n",
        "    ],\n",
        "    [\n",
        "        r\"(.*)\",\n",
        "        [\"I'm sorry, I don't understand that.\", \"Can you please rephrase?\"]\n",
        "    ]\n",
        "]\n",
        "\n",
        "# Create a chatbot instance\n",
        "chatbot = Chat(pairs, reflections)\n",
        "\n",
        "# Start the chatbot\n",
        "def start_chat():\n",
        "    print(\"Hi! I'm a chatbot. Type 'bye' to exit.\")\n",
        "    chatbot.converse()\n",
        "\n",
        "# Run the chatbot\n",
        "start_chat()\n"
      ],
      "metadata": {
        "colab": {
          "base_uri": "https://localhost:8080/"
        },
        "id": "P08DOhh4wWeI",
        "outputId": "5a801ad5-b07d-44e2-bcb1-568e93c53d0c"
      },
      "execution_count": null,
      "outputs": [
        {
          "metadata": {
            "tags": null
          },
          "name": "stderr",
          "output_type": "stream",
          "text": [
            "[nltk_data] Downloading package punkt to /root/nltk_data...\n",
            "[nltk_data]   Unzipping tokenizers/punkt.zip.\n"
          ]
        },
        {
          "metadata": {
            "tags": null
          },
          "name": "stdout",
          "output_type": "stream",
          "text": [
            "Hi! I'm a chatbot. Type 'bye' to exit.\n",
            "Can you please rephrase?\n",
            "I'm just a program, but thanks for asking!\n"
          ]
        }
      ]
    }
  ]
}